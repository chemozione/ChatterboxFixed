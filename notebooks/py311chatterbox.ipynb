{
  "nbformat": 4,
  "nbformat_minor": 0,
  "metadata": {
    "colab": {
      "provenance": [],
      "include_colab_link": true
    },
    "kernelspec": {
      "name": "py311",
      "display_name": "Python 3.11"
    },
    "language_info": {
      "name": "python"
    }
  },
  "cells": [
    {
      "cell_type": "markdown",
      "metadata": {
        "id": "view-in-github",
        "colab_type": "text"
      },
      "source": [
        "<a href=\"https://colab.research.google.com/github/chemozione/ChatterboxFixed/blob/main/notebooks/py311chatterbox.ipynb\" target=\"_parent\"><img src=\"https://colab.research.google.com/assets/colab-badge.svg\" alt=\"Open In Colab\"/></a>"
      ]
    },
    {
      "cell_type": "markdown",
      "metadata": {
        "id": "3uuIbCQBhXPD"
      },
      "source": [
        "# Python 3.11 on Colab\n",
        "\n",
        "Please note that the following scripts are intended to be used with a specially modified Colab notebook (i.e., this one). For instructions on how to modify an existing notebook to support Python 3.11, refer to the guide at: https://github.com/j3soon/colab-python-version."
      ]
    },
    {
      "cell_type": "code",
      "execution_count": null,
      "metadata": {
        "id": "QSTnS5m5hXPE"
      },
      "outputs": [],
      "source": [
        "# Download and execute set up script\n",
        "!wget -O py311.sh https://raw.githubusercontent.com/j3soon/colab-python-version/main/scripts/py311.sh\n",
        "!bash py311.sh"
      ]
    },
    {
      "cell_type": "markdown",
      "metadata": {
        "id": "wsbMkBaUhXPF"
      },
      "source": [
        "**Please refresh this page by pressing F5, and then execute the following cell without running the first one.**"
      ]
    },
    {
      "cell_type": "code",
      "execution_count": null,
      "metadata": {
        "id": "sPKMjW38hXPF"
      },
      "outputs": [],
      "source": [
        "import sys\n",
        "print(\"User Current Version:-\", sys.version)"
      ]
    },
    {
      "cell_type": "markdown",
      "source": [
        "## Clone from GitHub"
      ],
      "metadata": {
        "id": "IHxoxTA7hkxq"
      }
    },
    {
      "cell_type": "code",
      "execution_count": null,
      "metadata": {
        "id": "hIMIZ0UfhXPG"
      },
      "outputs": [],
      "source": [
        "!git clone https://github.com/chemozione/ChatterboxFixed"
      ]
    },
    {
      "cell_type": "markdown",
      "source": [
        "# Install Chatterbox"
      ],
      "metadata": {
        "id": "1p_rhfdJho3e"
      }
    },
    {
      "cell_type": "code",
      "source": [
        "%cd ChatterboxFixed/\n",
        "!pip install -e ."
      ],
      "metadata": {
        "id": "A9Htv8Bxhpe8"
      },
      "execution_count": null,
      "outputs": []
    },
    {
      "cell_type": "markdown",
      "source": [
        "## Run the inference"
      ],
      "metadata": {
        "id": "cyT8F15_hs7p"
      }
    },
    {
      "cell_type": "code",
      "source": [
        "!python ChatterboxFixed/main.py"
      ],
      "metadata": {
        "id": "cOUCLHuyhwGu"
      },
      "execution_count": null,
      "outputs": []
    }
  ]
}